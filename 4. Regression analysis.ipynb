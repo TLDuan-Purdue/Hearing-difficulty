{
 "cells": [
  {
   "cell_type": "code",
   "execution_count": 3,
   "id": "d66650b4",
   "metadata": {},
   "outputs": [],
   "source": [
    "import pandas as pd\n",
    "import statsmodels.api as sm\n",
    "import numpy as np\n",
    "from sklearn.preprocessing import StandardScaler"
   ]
  },
  {
   "cell_type": "code",
   "execution_count": 4,
   "id": "7635cf0c",
   "metadata": {},
   "outputs": [],
   "source": [
    "df = pd.read_csv('/Users/duan114/Library/CloudStorage/OneDrive-purdue.edu/24 hl/paper writing/data/data_for_regression.csv')"
   ]
  },
  {
   "cell_type": "code",
   "execution_count": 7,
   "id": "5a992aa8",
   "metadata": {},
   "outputs": [],
   "source": [
    "df1 = df[['population', 'HDR', 'RPD', 'MI', 'PF', 'UF',\n",
    "       'SR', 'ODR', 'OBF', 'BHF', 'poi_amount', 'AREA_SQMI', 'edge_len', 'RD',\n",
    "       'APD', 'NAME', 'state_pop', 'state_hd', 'SHDR']]"
   ]
  },
  {
   "cell_type": "markdown",
   "id": "9db6749a",
   "metadata": {},
   "source": [
    "## Regression"
   ]
  },
  {
   "cell_type": "code",
   "execution_count": 9,
   "id": "4ad399cb",
   "metadata": {},
   "outputs": [
    {
     "name": "stdout",
     "output_type": "stream",
     "text": [
      "                            OLS Regression Results                            \n",
      "==============================================================================\n",
      "Dep. Variable:                    HDR   R-squared:                       0.456\n",
      "Model:                            OLS   Adj. R-squared:                  0.455\n",
      "Method:                 Least Squares   F-statistic:                     324.5\n",
      "Date:                Fri, 26 Jul 2024   Prob (F-statistic):               0.00\n",
      "Time:                        14:08:40   Log-Likelihood:                -6043.6\n",
      "No. Observations:                3103   AIC:                         1.211e+04\n",
      "Df Residuals:                    3094   BIC:                         1.216e+04\n",
      "Df Model:                           8                                         \n",
      "Covariance Type:            nonrobust                                         \n",
      "==============================================================================\n",
      "                 coef    std err          t      P>|t|      [0.025      0.975]\n",
      "------------------------------------------------------------------------------\n",
      "const          6.4147      0.031    210.286      0.000       6.355       6.474\n",
      "SHDR           0.5685      0.033     17.157      0.000       0.504       0.634\n",
      "RPD            0.1269      0.037      3.443      0.001       0.055       0.199\n",
      "RD            -0.2939      0.043     -6.765      0.000      -0.379      -0.209\n",
      "MI            -0.1422      0.054     -2.618      0.009      -0.249      -0.036\n",
      "ODR            0.8810      0.034     26.212      0.000       0.815       0.947\n",
      "SR             0.0485      0.033      1.476      0.140      -0.016       0.113\n",
      "OBF           -0.4737      0.053     -8.891      0.000      -0.578      -0.369\n",
      "BHF            0.1183      0.041      2.887      0.004       0.038       0.199\n",
      "==============================================================================\n",
      "Omnibus:                      452.492   Durbin-Watson:                   1.898\n",
      "Prob(Omnibus):                  0.000   Jarque-Bera (JB):             3023.751\n",
      "Skew:                           0.508   Prob(JB):                         0.00\n",
      "Kurtosis:                       7.728   Cond. No.                         3.77\n",
      "==============================================================================\n",
      "\n",
      "Notes:\n",
      "[1] Standard Errors assume that the covariance matrix of the errors is correctly specified.\n"
     ]
    }
   ],
   "source": [
    "Y = df1['HDR']  # Dependent variable\n",
    "X = df1[['SHDR', 'RPD','RD', 'MI', 'ODR', 'SR', 'OBF', 'BHF']]  # Independent variables\n",
    "\n",
    "scaler = StandardScaler()\n",
    "X_scaled = scaler.fit_transform(X)\n",
    "X_scaled = pd.DataFrame(X_scaled, columns=X.columns, index=X.index)\n",
    "X_scaled = sm.add_constant(X_scaled)\n",
    "\n",
    "\n",
    "model = sm.OLS(Y, X_scaled)\n",
    "results = model.fit()\n",
    "print(results.summary())"
   ]
  },
  {
   "cell_type": "code",
   "execution_count": 10,
   "id": "19fc22bd",
   "metadata": {
    "scrolled": true
   },
   "outputs": [
    {
     "name": "stdout",
     "output_type": "stream",
     "text": [
      "                            OLS Regression Results                            \n",
      "==============================================================================\n",
      "Dep. Variable:                    HDR   R-squared:                       0.457\n",
      "Model:                            OLS   Adj. R-squared:                  0.455\n",
      "Method:                 Least Squares   F-statistic:                     324.9\n",
      "Date:                Fri, 26 Jul 2024   Prob (F-statistic):               0.00\n",
      "Time:                        14:08:51   Log-Likelihood:                -6042.9\n",
      "No. Observations:                3103   AIC:                         1.210e+04\n",
      "Df Residuals:                    3094   BIC:                         1.216e+04\n",
      "Df Model:                           8                                         \n",
      "Covariance Type:            nonrobust                                         \n",
      "==============================================================================\n",
      "                 coef    std err          t      P>|t|      [0.025      0.975]\n",
      "------------------------------------------------------------------------------\n",
      "const          6.4147      0.030    210.332      0.000       6.355       6.474\n",
      "SHDR           0.5678      0.033     17.136      0.000       0.503       0.633\n",
      "APD            0.1376      0.038      3.635      0.000       0.063       0.212\n",
      "RD            -0.3045      0.044     -6.865      0.000      -0.391      -0.218\n",
      "MI            -0.1425      0.054     -2.624      0.009      -0.249      -0.036\n",
      "ODR            0.8799      0.034     26.174      0.000       0.814       0.946\n",
      "SR             0.0477      0.033      1.449      0.147      -0.017       0.112\n",
      "OBF           -0.4750      0.053     -8.917      0.000      -0.579      -0.371\n",
      "BHF            0.1169      0.041      2.852      0.004       0.037       0.197\n",
      "==============================================================================\n",
      "Omnibus:                      452.109   Durbin-Watson:                   1.898\n",
      "Prob(Omnibus):                  0.000   Jarque-Bera (JB):             3018.462\n",
      "Skew:                           0.508   Prob(JB):                         0.00\n",
      "Kurtosis:                       7.724   Cond. No.                         3.79\n",
      "==============================================================================\n",
      "\n",
      "Notes:\n",
      "[1] Standard Errors assume that the covariance matrix of the errors is correctly specified.\n"
     ]
    }
   ],
   "source": [
    "Y = df1['HDR']  # Dependent variable\n",
    "X = df1[['SHDR', 'APD','RD', 'MI', 'ODR', 'SR', 'OBF', 'BHF']]  # Independent variables\n",
    "\n",
    "scaler = StandardScaler()\n",
    "X_scaled = scaler.fit_transform(X)\n",
    "X_scaled = pd.DataFrame(X_scaled, columns=X.columns, index=X.index)\n",
    "X_scaled = sm.add_constant(X_scaled)\n",
    "\n",
    "\n",
    "model = sm.OLS(Y, X_scaled)\n",
    "results = model.fit()\n",
    "print(results.summary())"
   ]
  },
  {
   "cell_type": "code",
   "execution_count": null,
   "id": "fd579ffd",
   "metadata": {},
   "outputs": [],
   "source": []
  }
 ],
 "metadata": {
  "kernelspec": {
   "display_name": "Python 3 (ipykernel)",
   "language": "python",
   "name": "python3"
  },
  "language_info": {
   "codemirror_mode": {
    "name": "ipython",
    "version": 3
   },
   "file_extension": ".py",
   "mimetype": "text/x-python",
   "name": "python",
   "nbconvert_exporter": "python",
   "pygments_lexer": "ipython3",
   "version": "3.11.4"
  }
 },
 "nbformat": 4,
 "nbformat_minor": 5
}
